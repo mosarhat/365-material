{
 "cells": [
  {
   "cell_type": "markdown",
   "metadata": {},
   "source": [
    "# Quiz 3 Review (Greedy's Algorithm)\n",
    "\n",
    "Finish most of this on Friday. Start practice problems on Saturday, and get as much GPT problems done as possible. Use ANKI to memorize T/F based questions for slides.\n",
    "\n",
    "There are algorithms that make locally optimal choices that follow a problem-solving heuristic.\n",
    "\n",
    "The following material will cover five problem instances, and their Greedy solutions."
   ]
  },
  {
   "cell_type": "markdown",
   "metadata": {},
   "source": [
    "## Lecture 15 (Road Trip)\n",
    "\n",
    "### Problem Statement\n",
    "\n",
    "Suppose we are planning a trip from Kingston to NYC. Suppose that there is only one fixed road, so we don't have a choice as to what road to take. We know the location for all the gas stations on the highway, and we know how far we can travel with minimal gas. Our car needs to stop several times to fill its gas tank.\n",
    "\n",
    "GOAL: Minimize the the number of stops we make along the way. \n",
    "\n",
    "Intuitively, we would go as far as possible each time. We only stop at a service station iff we cannot make it to the next one.\n",
    "\n",
    "### Assumptions\n",
    "\n",
    "The following are some assumptions we can make:\n",
    "- There is no gap between consecutive stations that exceeds the distance we can travel on one tank of gas.\n",
    "- We know the distance between any consecutive stations. \n",
    "- We know how much gas is left, and how far it can cover.\n"
   ]
  },
  {
   "cell_type": "markdown",
   "metadata": {},
   "source": [
    "## Lecture 16 (Activity Selection)"
   ]
  },
  {
   "cell_type": "markdown",
   "metadata": {},
   "source": [
    "## Lecture 17 (Coin Change)"
   ]
  },
  {
   "cell_type": "markdown",
   "metadata": {},
   "source": [
    "## Lecture 18 (Functional Knapsack)"
   ]
  },
  {
   "cell_type": "markdown",
   "metadata": {},
   "source": [
    "## Lecture 19 (Huffman Coding)"
   ]
  }
 ],
 "metadata": {
  "language_info": {
   "name": "python"
  }
 },
 "nbformat": 4,
 "nbformat_minor": 2
}
