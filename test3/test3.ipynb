{
 "cells": [
  {
   "cell_type": "markdown",
   "metadata": {},
   "source": [
    "# Quiz 3 Review (Greedy's Algorithm)\n",
    "\n",
    "Finish most of this on Friday. Start practice problems on Saturday, and get as much GPT problems done as possible. Use ANKI to memorize T/F based questions for slides.\n",
    "\n",
    "There are algorithms that make locally optimal choices that follow a problem-solving heuristic.\n",
    "\n",
    "The following material will cover five problem instances, and their Greedy solutions."
   ]
  },
  {
   "cell_type": "markdown",
   "metadata": {},
   "source": [
    "## Lecture 15 (Road Trip)\n",
    "\n",
    "### Problem Statement\n",
    "\n",
    "We are planning a trip from Kingston to NYC along a fixed road (no choice in what road to take). Along the way, there are multiple gas station at known locations. Our car has limited fuel capacity meaning we will need to stop for gas. \n",
    "\n",
    "The goal is to minimize the number of fuel stops while ensuring we reach our destination.\n",
    "\n",
    "To optimize, we should travel as far as possible before refuelling. We only stop at a gas station if we cannot reach the next one.\n",
    "\n",
    "### Assumptions\n",
    "\n",
    "The following are some assumptions we can make:\n",
    "- The distance between two consecutive gas stations is never greater than the maximum distance we can travel on a full tank.\n",
    "- We know the exact distance between all stations.\n",
    "- At any given moment, we know how much gas is left, and how far we can travel with it.\n",
    "\n",
    "### Recursive Algorithm\n",
    "\n",
    "This can be solved using a recursive algorithm, as follows:\n",
    "\n",
    "Sort the stations $\\{s_0, s_1, s_2, ..., s_n\\}$ according to how far they are from Kingston, where $s_n$ will be NYC.\n",
    "\n",
    "```latex\n",
    "RoadTrip($s_i$) # this is a recursive function which assumes we are at a station $s_i$ with a tank full of gas\n",
    "    $t = i + 1$ # this represents the next stations\n",
    "    while $t < n$ and $s_{t+1}$ is reachable: # if the next station is reachable, and we aren't in NYC yet, incremenet\n",
    "        $t++$\n",
    "    if $t$ == $n$: \n",
    "        stop # we have arrived in NYC\n",
    "    else:\n",
    "        fill up the gas at $s_i$ # otherwise, refuel at $s_i$\n",
    "        RoadTrip($s_i$)\n",
    "```\n",
    "\n",
    "The complexity of this is $O(nlogn)$."
   ]
  },
  {
   "cell_type": "code",
   "execution_count": 6,
   "metadata": {},
   "outputs": [
    {
     "name": "stdout",
     "output_type": "stream",
     "text": [
      "Minimum stops needed: 6\n"
     ]
    }
   ],
   "source": [
    "def road_trip_recursive(stations, max_distance, current_index=0):\n",
    "    \"\"\"\n",
    "    Recursive function to find the minimum number of stops needed to reach NYC.\n",
    "\n",
    "    :param stations: List of distances of gas stations from the start (sorted order).\n",
    "    :param max_distance: Maximum distance the car can travel on a full tank.\n",
    "    :param current_index: Current position in the station list.\n",
    "    :return: Minimum number of stops required.\n",
    "    \"\"\"\n",
    "    # Base case: If we are at the last station (NYC), no more stops are needed\n",
    "    if current_index == len(stations) - 1:\n",
    "        return 0\n",
    "\n",
    "    # Move to the farthest reachable station\n",
    "    next_index = current_index + 1\n",
    "    while next_index < len(stations) and stations[next_index] - stations[current_index] <= max_distance:\n",
    "        next_index += 1\n",
    "\n",
    "    # If we can't move forward, the trip is impossible\n",
    "    if next_index == current_index + 1:\n",
    "        return \"Impossible!\"\n",
    "        \n",
    "    # Make a stop at the farthest reachable station before NYC\n",
    "    return 1 + road_trip_recursive(stations, max_distance, next_index - 1)\n",
    "\n",
    "\n",
    "# Sample Input\n",
    "stations = [0, 150, 300, 450, 600, 750, 900]  # Include Kingston (0) and NYC (900)\n",
    "max_distance = 200  # Max distance on a full tank\n",
    "\n",
    "# Call the function and print output\n",
    "result = road_trip_recursive(stations, max_distance)\n",
    "print(\"Minimum stops needed:\", result)\n"
   ]
  },
  {
   "cell_type": "markdown",
   "metadata": {},
   "source": [
    "### Iterative Solution\n",
    "\n",
    "This is by-far the simpler solution.\n",
    "\n",
    "Sort the stations $\\{s_0, s_1, s_2, ..., s_n\\}$ according to how far they are from Kingston, where $s_n$ will be NYC.\n",
    "\n",
    "```latex\n",
    "RoadTrip_Iterative:\n",
    "    charge the battery at $s_1$\n",
    "    $j$ = 2\n",
    "    while $j$ < $n$:\n",
    "        if $s_{j+1}$ is unreachable:\n",
    "            stop and recharge at $s_{j}$\n",
    "        $j++$\n",
    "```\n",
    "The complexity of this is $O(nlogn)$."
   ]
  },
  {
   "cell_type": "markdown",
   "metadata": {},
   "source": [
    "### Mathematical Induction\n",
    "\n",
    "Within mathematical induction, we need to do the following:\n",
    "\n",
    "1. Prove a statement $P(n)$ is true for every natural number $n$. Simply put, $P(0)$, $P(1)$, all infinitely hold.\n",
    "2. We need to prove that the simple base case is true.\n",
    "3. We then need to prove that the claim is true for a given case, then the next case is also true."
   ]
  },
  {
   "cell_type": "markdown",
   "metadata": {},
   "source": [
    "### Greedy Algorithm Paradigm \n",
    "\n",
    "Greedy paradigm for constrained optimization problem:\n",
    "- Sort the objects according to some criterion\n",
    "- Repeat: select the next item under constraints until no more selections can be made\n",
    "\n",
    "RoadTrip greedy algorithm:\n",
    "- Sort the stations according to their distance from the start\n",
    "- Repeat: skip the next station if that doesn't cause us to run out of battery charge until we reach the destination"
   ]
  },
  {
   "cell_type": "markdown",
   "metadata": {},
   "source": [
    "### Questions to Consider\n",
    "\n",
    "- Does the problem always have an optimal solution?\n",
    "\n",
    "This depends on the problem constraints. Some problems have an optimal solution, while others may have edge cases where no solution that is valid exists. \n",
    "\n",
    "If constraints allow for a valid solution, an optimal solution is guaranteed.\n",
    "\n",
    "- How to formalize our intuitive algorithm?\n",
    "\n",
    "We need to utilize mathematical induction and an algorithm description to formalize an intuitive algorithm.\n",
    "\n",
    "For example, for the algorithm description:\n",
    "- We need to clearly state the greedy choice criterion.\n",
    "- We need to defined how the solution is constructed, which can either be iterative or recursive. \n",
    "- Provide pseudocode to clarify the steps.\n",
    "\n",
    "- What is its time complexity?\n",
    "    - Because we have to sort algorithms, the best sorting algorithms all run in O($nlogn$) time. This is true for both the iterative and recursive solutions.\n",
    "    \n",
    "- Does the algorithm always find an optimal solution? Proof?\n",
    "\n",
    "The greedy algorithm does not always guarantee an optimal solution for all problems. While some problems (such as Activity Selection or the Road Trip problem) exhibit greedy choice property and optimal substructure, others (such as Coin Change for arbitrary denominations or Knapsack Problem) do not.\n",
    "\n",
    "Counterexample: Coin Change Problem (Greedy Fails)\n",
    "Consider a scenario where you need to make amount = 6 with coin denominations {1, 3, 4}:\n",
    "\n",
    "A greedy approach would pick the largest coin first: 4, leaving 2 to be made.\n",
    "Since 2 cannot be made using 4 or 3, the greedy approach fails.\n",
    "The optimal solution is {3, 3}, requiring fewer coins.\n",
    "Thus, greedy fails because choosing the locally optimal step does not always lead to a globally optimal solution."
   ]
  },
  {
   "cell_type": "markdown",
   "metadata": {},
   "source": [
    "## Lecture 16 (Activity Selection)\n",
    "\n",
    "### Problem Statement\n",
    "\n",
    "The problem involves selecting a maximum-size subset of mutually compatible activities from a set of activities with overlapping times.\n",
    "\n",
    "Two activities are compatible if one starts after another finishes. For instance, activity A and activity B would be compatible if activity A ends before activity B starts. \n",
    "\n",
    "The goal is to maximize the number of activities that can be scheduled without overlapping."
   ]
  },
  {
   "cell_type": "markdown",
   "metadata": {},
   "source": [
    "## Lecture 17 (Coin Change)\n",
    "\n",
    "### Problem Statement\n",
    "\n"
   ]
  },
  {
   "cell_type": "markdown",
   "metadata": {},
   "source": [
    "## Lecture 18 (Functional Knapsack)"
   ]
  },
  {
   "cell_type": "markdown",
   "metadata": {},
   "source": [
    "## Lecture 19 (Huffman Coding)"
   ]
  }
 ],
 "metadata": {
  "kernelspec": {
   "display_name": "Python 3",
   "language": "python",
   "name": "python3"
  },
  "language_info": {
   "codemirror_mode": {
    "name": "ipython",
    "version": 3
   },
   "file_extension": ".py",
   "mimetype": "text/x-python",
   "name": "python",
   "nbconvert_exporter": "python",
   "pygments_lexer": "ipython3",
   "version": "3.12.1"
  }
 },
 "nbformat": 4,
 "nbformat_minor": 2
}
