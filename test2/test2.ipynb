{
 "cells": [
  {
   "cell_type": "markdown",
   "metadata": {},
   "source": [
    "# Test 2 Review (Divide and Conquer)\n",
    "\n",
    "\n",
    "Test 2 covers lectures 9 to 14.\n",
    "\n",
    "\n",
    "Test 2 has the following format:\n",
    "- True/False, 10 questions, 20 marks\n",
    "- Write the pseudocode DnC algorithm to solve a problem.\n",
    "- Write the recurrence relation to find its runtime."
   ]
  },
  {
   "cell_type": "markdown",
   "metadata": {},
   "source": [
    "## Lecture 9 - Search and Sort\n",
    "\n",
    "\n",
    "**Divide and Conquer**:\n",
    "- A strategy that can encompasses a set of wide applications for both computing and non-computing.\n",
    "- Helps manage more complex problems.\n",
    "- Allows us to achieve a larger goal by breaking down a problem into measurable objectives such that we can monitor the progress.\n",
    "\n",
    "A real-life example would be **divide and rule**:\n",
    "- In politics, *divide and rule* is for rulers to gain power by breaking up concentrations of power other individuals can have.\n",
    "- Example:\n",
    "\n",
    "The following is a depiction of the usefulness of divide and conquer:\n",
    "\n",
    "<div align=\"center\">\n",
    "    <img src=\"assets/1.jpg\"></img>\n",
    "    <figcaption>Figure 1: Task T's Subtasks</figcaption>\n",
    "</div>\n",
    "\n",
    "Instead of solving task T as a whole, we can break it down to subtasks, as outlined in *Figure 1*. This makes some problems more manageable, and less overwhelming. We can break the task down into smaller and smaller pieces, as shown in the right-most diagram in *Figure 1*.\n",
    "\n",
    "For some problems, the complexity of solving it comes from the large size of its input:\n",
    "- We can divide a problem instance into halves each time, and can continue dividing it until we reach a base level.\n",
    "- The base level has the inputs small enough to be solved directly.\n",
    "\n",
    "\n",
    "<div align=\"center\">\n",
    "    <img src=\"assets/2.jpg\"></img>\n",
    "    <figcaption>Figure 2: Breaking Down a Big Problem Into Its Smallest Units</figcaption>\n",
    "</div>\n",
    "\n",
    "### Formalizing Divide and Conquer Algorithmic Paradigm\n",
    "\n",
    "In order to solve a problem of size n:\n",
    "1. **Divide** into sub-problems.\n",
    "2. **Conquer** the sub-problems by solving them recursively until they bottom out to base cases.\n",
    "3. **Combine** the solutions to the sub-problems to the solutions of the original problem.\n",
    "\n",
    "Some examples of algorithm that fall into the divide and conquer paradigm:\n",
    "1. Binary Search"
   ]
  }
 ],
 "metadata": {
  "language_info": {
   "name": "python"
  }
 },
 "nbformat": 4,
 "nbformat_minor": 2
}
