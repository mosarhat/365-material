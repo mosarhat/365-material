{
 "cells": [
  {
   "cell_type": "markdown",
   "metadata": {},
   "source": [
    "# Test 2 Review (Divide and Conquer)\n",
    "\n",
    "\n",
    "Test 2 covers lectures 9 to 14.\n",
    "\n",
    "\n",
    "Test 2 has the following format:\n",
    "- True/False, 10 questions, 20 marks\n",
    "- Write the pseudocode DnC algorithm to solve a problem.\n",
    "- Write the recurrence relation to find its runtime."
   ]
  },
  {
   "cell_type": "markdown",
   "metadata": {},
   "source": [
    "## Lecture 9 - Search and Sort\n",
    "\n",
    "\n",
    "**Divide and Conquer**:\n",
    "- A strategy that can encompasses a set of wide applications for both computing and non-computing.\n",
    "- Helps manage more complex problems.\n",
    "- Allows us to achieve a larger goal by breaking down a problem into measurable objectives such that we can monitor the progress.\n",
    "\n",
    "A real-life example would be **divide and rule**:\n",
    "- In politics, *divide and rule* is for rulers to gain power by breaking up concentrations of power other individuals can have.\n",
    "- Example:\n",
    "\n",
    "The following is a depiction of the usefulness of divide and conquer:\n",
    "\n",
    "<div align=\"center\">\n",
    "    <img src=\"assets/1.jpg\"></img>\n",
    "    <figcaption>Figure 1: Task T's Subtasks</figcaption>\n",
    "</div>\n",
    "\n",
    "Instead of solving task T as a whole, we can break it down to subtasks, as outlined in *Figure 1*. This makes some problems more manageable, and less overwhelming. We can break the task down into smaller and smaller pieces, as shown in the right-most diagram in *Figure 1*.\n",
    "\n",
    "For some problems, the complexity of solving it comes from the large size of its input:\n",
    "- We can divide a problem instance into halves each time, and can continue dividing it until we reach a base level.\n",
    "- The base level has the inputs small enough to be solved directly.\n",
    "\n",
    "\n",
    "<div align=\"center\">\n",
    "    <img src=\"assets/2.jpg\"></img>\n",
    "    <figcaption>Figure 2: Breaking Down a Big Problem Into Its Smallest Units</figcaption>\n",
    "</div>\n",
    "\n",
    "### Formalizing Divide and Conquer Algorithmic Paradigm\n",
    "\n",
    "In order to solve a problem of size n:\n",
    "1. **Divide** into sub-problems.\n",
    "2. **Conquer** the sub-problems by solving them recursively until they bottom out to base cases.\n",
    "3. **Combine** the solutions to the sub-problems to the solutions of the original problem.\n",
    "\n",
    "Some examples of algorithm that fall into the divide and conquer paradigm:\n",
    "1. Binary Search\n",
    "2. Merge Sort\n",
    "3. ... many more!\n",
    "\n",
    "### Binary Search\n",
    "\n",
    "<div align=\"center\">\n",
    "    <img src=\"assets/3.jpg\"></img>\n",
    "    <figcaption>Figure 3: Pseudocode for Binary Search</figcaption>\n",
    "</div>\n",
    "\n",
    "There is a base case definition, divide step, and conquer step using recursion.\n",
    "\n",
    "The base can is n = 4. The base case can be any small and specific value. Solving the input of a specified size only takes constant time.\n",
    "\n",
    "Time complexity of a binary search T(n) = O(logn). Running time depends on the input. Search would be in constant time if value T is the middle value of input A. We might spend the entire logn time if value T is not found in input A."
   ]
  },
  {
   "cell_type": "markdown",
   "metadata": {},
   "source": [
    "### Merge Sort\n",
    "\n",
    "<div align=\"center\">\n",
    "    <img src=\"assets/4.jpg\"></img>\n",
    "    <figcaption>Figure 4: Pseudocode for Merge Sort</figcaption>\n",
    "</div>\n",
    "\n",
    "The base case defined with a small input size 3.\n",
    "\n",
    "We then divide input list A into two equal halves, and solve them by 2 recursive calls. We then merge the two sorted halves together. This is a classic example of divide and conquer. \n",
    "\n",
    "The complexity of Merge Sort is T(n) = Theta(nlogn). The use of Theta is due to Merge Sort having the same running time for any instance.\n",
    "\n",
    "**What is the recurrence relation if we split list A into three sub-lists at a time?**\n",
    "\n",
    "T(n) = c2 + c3*n + 3*T(n/3) - we will use substitution to derive the complexity -> Theta(nlogn)\n",
    "\n"
   ]
  },
  {
   "cell_type": "markdown",
   "metadata": {},
   "source": [
    "### Quicksort and Improving Quicksort\n",
    "\n",
    "<div align=\"center\">\n",
    "    <img src=\"assets/5.jpg\"></img>\n",
    "    <figcaption>Figure 5:</figcaption>\n",
    "</div>\n",
    "\n",
    "If the array has fewer than 4 elements, sort it directly.\n",
    "\n",
    "Otherwise, we pick a pivot element. Partition the array around p, so that elements less than p go to one side, and elements greater go to another. Let q be where p is partitioned. Recursively Quicksort the sub-array to the left of p, and the sub-array to the right.\n",
    "\n",
    "When n <= 4, it's faster to just do a direct sort than fully do recursion. \n",
    "\n",
    "IF we pick \"bad\" pivots (always the largest or smallest element), the partition ends with one sub-problem of size n-1, and the other of size 0. \n",
    "\n",
    "The recurrence relation then becomes T(n) = T(n-1) + Theta(n).\n",
    "\n",
    "For the best case, the pivot should split the array in half every time. \n",
    "\n",
    "The recurrence relation then becomes T(n) = 2*T(n/2) + Theta(n). Using substitution, we can see than Theta(nlogn).\n"
   ]
  },
  {
   "cell_type": "markdown",
   "metadata": {},
   "source": [
    "### Unrelated: Finding The Turning Point in An Array\n",
    "\n",
    "<div align=\"center\">\n",
    "    <img src=\"assets/6.jpg\"></img>\n",
    "    <figcaption>Figure 6:</figcaption>\n",
    "</div>\n",
    "\n",
    "Let S be a list of distinct (no two same integers) where the size of S must be n >= 3. \n",
    "\n",
    "There exists an index k, where when i < k, S[i] > S[i+1]. So what this is telling us is that when there is an index i < k, then the set will have S[i] > S[i+1]. On the other hand, when i > k, then the set will have S[i] > S[i-1].\n",
    "\n",
    "Simply put:\n",
    "1. From the start of the list up to the index x, it is strictly decreasing.\n",
    "2. From index k to the end, it is strictly increasing.\n",
    "\n",
    "Create a D-n-C algorithm, ```find_k(S)``` that returns index k given a set S. Assume that k always exists, and that ```find_k``` should run in *O(logn)* time.\n",
    "\n",
    "**Solution:**\n",
    "\n",
    "Some examples of the turning point in an array are as follows:\n",
    "1. S = [23, 9, 5, 12, 24] -> returns an index of 2 (assming the index starts at 2)\n",
    "2. S = [68, 37, 11, 2, 5, 8, 20, 43] -> returns an index of 3\n",
    "\n",
    "\n",
    "The following is the Pseudo-Code for Turning Point when using Binary Search:\n",
    "\n",
    "```\n",
    "find_k(S):\n",
    "    if S has less than 4 elements:\n",
    "        Perform a sequential search on S in order to find the target\n",
    "    else:\n",
    "        Divide S into two equal subsequences\n",
    "        if S[mid] is smaller than both it's neighbors:\n",
    "            return mid\n",
    "        elif S[mid] is greater than its right neighbor:\n",
    "            find_k(second half of S)\n",
    "        else:\n",
    "            find_k(first half of S)\n",
    "```\n",
    "\n",
    "This utilizes Binary Search, therefore, the complexity is O(logn).\n"
   ]
  },
  {
   "cell_type": "markdown",
   "metadata": {},
   "source": [
    "## Lecture 10 - Max Subarray"
   ]
  },
  {
   "cell_type": "markdown",
   "metadata": {},
   "source": [
    "### Divide and Conquer and Recursion\n",
    "\n",
    "Recall, that divide and conquer solves a problem by dividing it into smaller sub-problems and solve them recursively. These sub-problems are often the same problem as the original one, but with smaller input sizes. \n",
    "\n",
    "Divide and conquer often goes hand-in-hand with recursion."
   ]
  },
  {
   "cell_type": "markdown",
   "metadata": {},
   "source": [
    "### Max Stock Profit Problem\n",
    "\n",
    "We want to invest in a stock. We can only buy a fixed amount of units, only one time on a data, and sell it on a later date. We buy and sell after a close of trading for the day. \n",
    "\n",
    "We have a very intelligent technique that can highly accurately predict the stock change over a 17-day period. We need to decide on which date to buy, and on which to sell. \n",
    "\n",
    "We might say:\n",
    "1. Buy at the lowest. \n",
    "2. Sell at the highest. \n",
    "\n",
    "<div align=\"center\">\n",
    "    <img src=\"assets/7.jpg\"></img>\n",
    "    <figcaption>Figure 7:</figcaption>\n",
    "</div>\n",
    "\n",
    "Unfortunately, this is easier said than done. We cannot go back in time in order to buy at a dip, and sell at the highest. \n",
    "\n",
    "#### Brute-Force for Max Stock Profit Problem\n",
    "\n",
    "We can enumerate all pairs and selling data. The buying data precedes the selling date. A period of n days will have ```n choose 2```. This would be considered as Theta(n^2). Computing the difference only takes constant time.\n",
    "\n",
    "Polynomial time is not bad at all, but we can do better. Up until this point, we should see that whenever we are given a problem, we can always try a naive brute force algorithm first.\n",
    "\n",
    "#### Divide and Conquer for Divide and Conquer\n",
    "\n",
    "Instead of looking at the daily prices, let's consider the daily change in price (each day compared to that of the preceding day). We want to find the non-empty contiguous sub-array whose values have the largest sum."
   ]
  },
  {
   "cell_type": "markdown",
   "metadata": {},
   "source": [
    "### Maximum Subarray Problem\n",
    "\n",
    "Given an array A of n integers, can we find a sub-array where it's sub of its elements is the maximum.\n",
    "\n",
    "<div align=\"center\">\n",
    "    <img src=\"assets/8.jpg\"></img>\n",
    "    <figcaption>Figure 8: An Array A</figcaption>\n",
    "</div>\n",
    "\n",
    "The naive brute-force algorithm is still enumerating all possible pairs of (i, j) and computing the sums. The complexity is Theta(n^2).\n",
    "\n",
    "There are some special cases for the Maximum Subarray Problem:\n",
    "1. If A contains all non-negative numbers. Simply, add all the elements up.\n",
    "2. If A contains all non-positive numbers. The answer would be the set of one item, the largest value in A.\n",
    "3. There could be more than one subarray that has a maximum sum.\n",
    "\n",
    "Applications include genome analysis, where we try to identify contiguous segments of gene sequences responsible for certain protein functions. In computer vision, if we treat an image as a sequence of greyscale values, highlights are subsequences with the lowest sum.\n",
    "\n",
    "\n",
    "#### Divide and Conquer Maximum Subarray Algorithm\n",
    "\n",
    "\n",
    "The following is the Pseudo-Code for Maximum Subarray:\n",
    "\n",
    "```\n",
    "maxSubArray(A):\n",
    "    if A has less than 5 elements:\n",
    "        Find the maximum subarray by enumerating all possible pairs of (i,j)\n",
    "    else:\n",
    "        Divide A into two equal subsequences; A[1,...,mid] and A[mid+1,...,n]\n",
    "        Maximum-Subarray (A[1,...,mid])\n",
    "        Maximum-Subarray (A[mid+1,...,n])\n",
    "        Return the subarray with a greater subarrays with a greater sum\n",
    "```\n",
    "\n",
    "**What if the maximum subarray crosses the endpoint?**\n",
    "\n",
    "There is a restriction. The subarray must cross the midpoint. This maximum subarray must be comprised of two subarrays where the first portion is a maximum subarray that ends with element, mid. The second portion starts with mid+1 and ends with the end of the subarray.\n",
    "\n",
    "```\n",
    "maxSubArray(A):\n",
    "    if A has less than 5 elements:\n",
    "        Find the maximum subarray by enumerating all possible pairs of (i,j)\n",
    "    else:\n",
    "        Divide A into two equal subsequences; A[1,...,mid] and A[mid+1,...,n]\n",
    "        Maximum-Subarray (A[1,...,mid])\n",
    "        Maximum-Subarray (A[mid+1,...,n])\n",
    "        Maximum-Crossing-SubArray(A)\n",
    "        Return one of the subarrays with the greatest sum\n",
    "```\n"
   ]
  },
  {
   "cell_type": "markdown",
   "metadata": {},
   "source": [
    "#### Kadane's Algorithm (Homework)"
   ]
  },
  {
   "cell_type": "markdown",
   "metadata": {},
   "source": [
    "## Lecture 11 - Closest Pair"
   ]
  },
  {
   "cell_type": "markdown",
   "metadata": {},
   "source": [
    "### Find the Closest *Pair* of Paths\n",
    "\n",
    "The goal of the problem is to find the closest pair of points in a set P in a metric space of n >= 2 points. The distance is measured in Euclidean distance.\n",
    "\n",
    "The Closest Pair algorithm is used in traffic-control systems.\n",
    "\n",
    "A special case input would be where two points are coincident. This would demarcate them as the closest pair since their Euclidean distance is 0."
   ]
  },
  {
   "cell_type": "markdown",
   "metadata": {},
   "source": [
    "### Closest Pair Problem"
   ]
  },
  {
   "cell_type": "markdown",
   "metadata": {},
   "source": [
    "#### Brute Force Algorithm for Closest Pair\n",
    "\n",
    "We can solve this problem by O(n^2) by computing the distance between all pairs of points. \n",
    "\n",
    "Essentially, we would make pairwise comparisons for all inputs, and select the pair with the lowest Euclidean distance."
   ]
  },
  {
   "cell_type": "markdown",
   "metadata": {},
   "source": [
    "#### Divide and Conquer Algorithm for Closest Pair\n",
    "\n",
    "The goal is to find the set of points that share the cloest Euclidean distance. Divide and conquer gives us a O(nlogn) complexity.\n",
    "\n",
    "To divide the points into two equal halves, we need to clarify the representation of the problem further. We label the points left to right for the x-axis. We also label points bottom to up for the y-axis. This method gives us O(nlogn) complexity.\n",
    "\n",
    "The following is the Divide and Conquer Algorithm:\n",
    "\n",
    "```\n",
    "closest_pair(P):\n",
    "    if there are 4 or less points in P:\n",
    "        find the closest pair using brute-force -> takes constant time\n",
    "    else:\n",
    "        divide the set into a left half P_L and right half P_R\n",
    "        delta_L = closest-pair(P_L)\n",
    "        delta_R = closest-pair(P_R)\n",
    "        delta = min(delta_L, delta_R)\n",
    "        return delta\n",
    "```\n",
    "\n",
    "Do we need to compute all distance? NO!\n",
    "\n",
    "**Blue Box**: This represents the region around the dividing line. It includes all the points of delta from the dividing line. \n",
    "\n",
    "Note:\n",
    "1. Any points father than delta from the dividing line cannot form a closer pair with points on the other wise. \n",
    "2. Only points within the blue box need to be considered when checking for a closer pair across the dividing line.\n",
    "\n",
    "Simply put, here's my very own explanation for this:\n",
    "Recall, ```delta = min(delta_L, delta_R)```. This showcases the minimum Euclidean distance from either side of the divider. Using this delta, we can assume that if we measure from the dividing line that if there lies one point on one side of the dividing line, and one on the other, and they both lie within the bounds of the box, then those two points have a smaller Euclidean distance than the one that is found.\n",
    "\n",
    "\n",
    "**Purple Box**: Smaller region used to optimize the search for the closest pair within the blue box. We can only check a maximum of 6 points in the purple box, so for every point, we can only check a succeeding five points. This reduces the number of distance computations. \n",
    "\n",
    "```\n",
    "closest_pair(P):\n",
    "    # Base case: If there are 4 or fewer points, use brute-force\n",
    "    if there are 4 or less points in P:\n",
    "        find the closest pair using brute-force -> takes constant time\n",
    "    else:\n",
    "        # Divide the set into left and right halves\n",
    "        divide the set into a left half P_L and right half P_R\n",
    "        \n",
    "        # Recursively find the closest pair in each half\n",
    "        delta_L = closest-pair(P_L)\n",
    "        delta_R = closest-pair(P_R)\n",
    "        \n",
    "        # Find the smaller of the two distances\n",
    "        delta = min(delta_L, delta_R)\n",
    "        \n",
    "        # Check for closer pairs across the dividing line\n",
    "        if there is a pair each belongs to one side with d < delta:\n",
    "            return d  # Return the new minimum distance\n",
    "        else:\n",
    "            return delta  # Return the smallest distance found\n",
    "```\n",
    "\n",
    "Textbook Exercises - 1044 33.4-5, 33.4-6"
   ]
  },
  {
   "cell_type": "markdown",
   "metadata": {},
   "source": [
    "### Unrelated: Fast Exponentiation Problem \n",
    "\n",
    "```\n",
    "exp(x, n):\n",
    "    if n is 0:\n",
    "        return 1\n",
    "    if n is 1:\n",
    "        return x:\n",
    "    else:\n",
    "        half = exp(x, n // 2)\n",
    "        if n is even:\n",
    "            return half * half\n",
    "        else:\n",
    "            return x * half * half -> imagine we have 2^5, this is the same as saying 2^5 = 2^4 * 2 (smart, right)\n",
    "```"
   ]
  },
  {
   "cell_type": "markdown",
   "metadata": {},
   "source": [
    "## Lecture 12 - Convex Hull"
   ]
  },
  {
   "cell_type": "markdown",
   "metadata": {},
   "source": [
    "### Convex Hull Problem\n",
    "\n",
    "The smallest convex polygon that includes all points.\n",
    "\n",
    "A polygon is convex if there are no points in the polygon such that the straight line between them goes outside the polygon.\n",
    "\n",
    "The convex hull algorithm is used for the following:\n",
    "1. Image Processing.\n",
    "2. GPS.\n",
    "3. Machine Learning and Data Science."
   ]
  },
  {
   "cell_type": "markdown",
   "metadata": {},
   "source": [
    "#### Brute Force Algorithm"
   ]
  },
  {
   "cell_type": "markdown",
   "metadata": {},
   "source": [
    "### Unrelated: Integer Square Root Problem"
   ]
  },
  {
   "cell_type": "markdown",
   "metadata": {},
   "source": [
    "## Lecture 13 - Pair Sum\n",
    "\n",
    "### Subset-Sum Problem\n",
    "\n",
    "#### Brute Force Algorithm for Subset-Sum Problem\n",
    "\n",
    "### Pair-Sum Problem\n",
    "\n",
    "#### First Smart Pair-Sum Algorithm\n",
    "\n",
    "#### Second Smart Pair-Sum Algorithm\n",
    "\n",
    "### Two-Set Pair-Sum Problem\n",
    "\n",
    "#### Smart Two-Set Pair-Sum Algorithm"
   ]
  },
  {
   "cell_type": "markdown",
   "metadata": {},
   "source": [
    "## Lecture 14 - Subset Sum\n",
    "\n",
    "### Three-Set-Sum Problem\n",
    "\n",
    "### Subset-Sum Problem\n",
    "\n",
    "#### Divide and Conquer Subset-Sum Algorithm\n",
    "\n",
    "#### Complexity of Divide and Conquer within Subset-Sum Algorithm"
   ]
  },
  {
   "cell_type": "markdown",
   "metadata": {},
   "source": [
    "### Unrelated: Max Subarray Product Problem"
   ]
  },
  {
   "cell_type": "markdown",
   "metadata": {},
   "source": [
    "## Practice Problems - Week 4\n",
    "\n",
    "### Problem 1\n",
    "\n",
    "Give a divide-and-conquer algorithm with a time complexity of 𝑂(log 𝑛) to solve the problem of **Finding the Single Letter**. Implement your algorithm using any language you prefer and test its correctness and efficiency.\n",
    "\n",
    "Finding the Single Letter: Given a string where all unique letters are supposed to appear twice one after one (e.g., “aa”). There may occur an error where one letter appears only once. Can you find the position of that single letter? Inputs with more than one single letter (e.g., “bbaddc”) or letters occurring more than twice (e.g., “aaaa”) are considered invalid. We assume all inputs are valid and you do not need to handle any exceptions.\n",
    "\n",
    "Examples: \n",
    "- Input “ccddabbffgg” returns 4\n",
    "- Input “ddccaahhbb” returns None\n",
    "- Input “iihhjjyyc” returns 8\n",
    "\n",
    "### Personal Solution to Problem 1"
   ]
  },
  {
   "cell_type": "markdown",
   "metadata": {},
   "source": [
    "### Problem 2\n",
    "\n",
    "There is in fact a linear algorithm, Kadane’s Algorithm, for the max subarray problem. Search and study it. Implement it using any language you prefer\n",
    "\n",
    "### Solution to Problem 2\n"
   ]
  },
  {
   "cell_type": "markdown",
   "metadata": {},
   "source": [
    "### Problem 3\n",
    "\n",
    "Let s be a string of m letters. Create a divide-and-conquer algorithm find_letter(s) that returns the letter that appears in s more than m/2 times. find_letter should run in 𝑂(𝑛 log 𝑛) time. Implement your algorithm using any language you prefer and test its correctness and efficiency.\n",
    "\n",
    "For example:\n",
    "- s = “abcbbab” returns “b”\n",
    "- s = “jklksj” returns None\n",
    "\n",
    "### Solution to Problem 3"
   ]
  },
  {
   "cell_type": "markdown",
   "metadata": {},
   "source": [
    "## Practice Problems - Week 5\n",
    "\n",
    "### Problem 1\n",
    "\n",
    "### Personal Solution to Problem 1\n",
    "\n",
    "### Problem 2\n",
    "\n",
    "### Personal Solution to Problem 2"
   ]
  }
 ],
 "metadata": {
  "language_info": {
   "name": "python"
  }
 },
 "nbformat": 4,
 "nbformat_minor": 2
}
