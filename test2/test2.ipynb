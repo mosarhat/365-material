{
 "cells": [
  {
   "cell_type": "markdown",
   "metadata": {},
   "source": [
    "# Test 2 Review (Divide and Conquer)\n",
    "\n",
    "\n",
    "Test 2 covers lectures 9 to 14.\n",
    "\n",
    "\n",
    "Test 2 has the following format:\n",
    "- True/False, 10 questions, 20 marks\n",
    "- Write the pseudocode DnC algorithm to solve a problem.\n",
    "- Write the recurrence relation to find its runtime."
   ]
  },
  {
   "cell_type": "markdown",
   "metadata": {},
   "source": [
    "## Lecture 9 - Search and Sort\n",
    "\n",
    "\n",
    "**Divide and Conquer**:\n",
    "- A strategy that can encompasses a set of wide applications for both computing and non-computing.\n",
    "- Helps manage more complex problems.\n",
    "- Allows us to achieve a larger goal by breaking down a problem into measurable objectives such that we can monitor the progress.\n",
    "\n",
    "A real-life example would be **divide and rule**:\n",
    "- In politics, *divide and rule* is for rulers to gain power by breaking up concentrations of power other individuals can have.\n",
    "- Example:\n",
    "\n",
    "The following is a depiction of the usefulness of divide and conquer:\n",
    "\n",
    "<div align=\"center\">\n",
    "    <img src=\"assets/1.jpg\"></img>\n",
    "    <figcaption>Figure 1: Task T's Subtasks</figcaption>\n",
    "</div>\n",
    "\n",
    "Instead of solving task T as a whole, we can break it down to subtasks, as outlined in *Figure 1*. This makes some problems more manageable, and less overwhelming. We can break the task down into smaller and smaller pieces, as shown in the right-most diagram in *Figure 1*.\n",
    "\n",
    "For some problems, the complexity of solving it comes from the large size of its input:\n",
    "- We can divide a problem instance into halves each time, and can continue dividing it until we reach a base level.\n",
    "- The base level has the inputs small enough to be solved directly.\n",
    "\n",
    "\n",
    "<div align=\"center\">\n",
    "    <img src=\"assets/2.jpg\"></img>\n",
    "    <figcaption>Figure 2: Breaking Down a Big Problem Into Its Smallest Units</figcaption>\n",
    "</div>\n",
    "\n",
    "### Formalizing Divide and Conquer Algorithmic Paradigm\n",
    "\n",
    "In order to solve a problem of size n:\n",
    "1. **Divide** into sub-problems.\n",
    "2. **Conquer** the sub-problems by solving them recursively until they bottom out to base cases.\n",
    "3. **Combine** the solutions to the sub-problems to the solutions of the original problem.\n",
    "\n",
    "Some examples of algorithm that fall into the divide and conquer paradigm:\n",
    "1. Binary Search\n",
    "2. Merge Sort\n",
    "3. ... many more!\n",
    "\n",
    "### Binary Search\n",
    "\n"
   ]
  },
  {
   "cell_type": "markdown",
   "metadata": {},
   "source": [
    "### Merge Sort"
   ]
  },
  {
   "cell_type": "markdown",
   "metadata": {},
   "source": [
    "### Quicksort"
   ]
  },
  {
   "cell_type": "markdown",
   "metadata": {},
   "source": [
    "### Finding The Turning Point in An Array"
   ]
  },
  {
   "cell_type": "markdown",
   "metadata": {},
   "source": [
    "## Lecture 10 - Max Subarray"
   ]
  },
  {
   "cell_type": "markdown",
   "metadata": {},
   "source": [
    "## Lecture 11 - Closest Pair"
   ]
  },
  {
   "cell_type": "markdown",
   "metadata": {},
   "source": [
    "## Lecture 12 - Convex Hull"
   ]
  },
  {
   "cell_type": "markdown",
   "metadata": {},
   "source": [
    "## Lecture 13 - Pair Sum"
   ]
  },
  {
   "cell_type": "markdown",
   "metadata": {},
   "source": [
    "## Lecture 14 - Subset Sum"
   ]
  },
  {
   "cell_type": "markdown",
   "metadata": {},
   "source": [
    "## Practice Problems - Week 4\n",
    "\n",
    "### Problem 1\n",
    "\n",
    "Give a divide-and-conquer algorithm with a time complexity of 𝑂(log 𝑛) to solve the problem of **Finding the Single Letter**. Implement your algorithm using any language you prefer and test its correctness and efficiency.\n",
    "\n",
    "Finding the Single Letter: Given a string where all unique letters are supposed to appear twice one after one (e.g., “aa”). There may occur an error where one letter appears only once. Can you find the position of that single letter? Inputs with more than one single letter (e.g., “bbaddc”) or letters occurring more than twice (e.g., “aaaa”) are considered invalid. We assume all inputs are valid and you do not need to handle any exceptions.\n",
    "\n",
    "Examples: \n",
    "- Input “ccddabbffgg” returns 4\n",
    "- Input “ddccaahhbb” returns None\n",
    "- Input “iihhjjyyc” returns 8\n",
    "\n",
    "### Personal Solution to Problem 1"
   ]
  },
  {
   "cell_type": "markdown",
   "metadata": {},
   "source": [
    "### Problem 2\n",
    "\n",
    "There is in fact a linear algorithm, Kadane’s Algorithm, for the max subarray problem. Search and study it. Implement it using any language you prefer\n",
    "\n",
    "### Solution to Problem 2\n"
   ]
  },
  {
   "cell_type": "markdown",
   "metadata": {},
   "source": [
    "### Problem 3\n",
    "\n",
    "Let s be a string of m letters. Create a divide-and-conquer algorithm find_letter(s) that returns the letter that appears in s more than m/2 times. find_letter should run in 𝑂(𝑛 log 𝑛) time. Implement your algorithm using any language you prefer and test its correctness and efficiency.\n",
    "\n",
    "For example:\n",
    "- s = “abcbbab” returns “b”\n",
    "- s = “jklksj” returns None\n",
    "\n",
    "### Solution to Problem 3"
   ]
  },
  {
   "cell_type": "markdown",
   "metadata": {},
   "source": [
    "## Practice Problems - Week 5\n",
    "\n",
    "### Problem 1\n",
    "\n",
    "### Personal Solution to Problem 1\n",
    "\n",
    "### Problem 2\n",
    "\n",
    "### Personal Solution to Problem 2"
   ]
  }
 ],
 "metadata": {
  "language_info": {
   "name": "python"
  }
 },
 "nbformat": 4,
 "nbformat_minor": 2
}
